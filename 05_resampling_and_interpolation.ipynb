{
 "cells": [
  {
   "cell_type": "markdown",
   "id": "a5151ef1",
   "metadata": {},
   "source": [
    "# Resampling and Interpolation\n",
    "\n",
    "The Pandas library provides the capability to change the frequency of time series data. \n",
    "\n",
    "Two types of resampling are:\n",
    "- **Upsampling**: Increase the frequency, such as going from minutes to seconds\n",
    "- **Downsampling**: Decrease the frequency, such as going from days to months\n",
    "\n",
    "In both cases data must be invented. In the case of upsampling, care is needed in determining how the finer-grained observations are calculated using interpolation. In the case of downsampling, care is needed in selecting the summary statistics used to aggregate the values.\n",
    "\n",
    "Why resample?\n",
    "\n",
    "1. Your data is not available at the same frequency that you want to make predictions.\n",
    "2. Provide additional structure or insight (feature engineering)"
   ]
  },
  {
   "cell_type": "code",
   "execution_count": 1,
   "id": "78bafbb2",
   "metadata": {},
   "outputs": [],
   "source": [
    "import pandas as pd\n",
    "from datetime import datetime"
   ]
  },
  {
   "cell_type": "code",
   "execution_count": 2,
   "id": "d62e96b3",
   "metadata": {},
   "outputs": [],
   "source": [
    "def parser(x):\n",
    "    return datetime.strptime('190'+x, '%Y-%m')"
   ]
  },
  {
   "cell_type": "code",
   "execution_count": 3,
   "id": "eda53808",
   "metadata": {},
   "outputs": [
    {
     "data": {
      "text/plain": [
       "Month\n",
       "1901-01-01    266.0\n",
       "1901-02-01    145.9\n",
       "1901-03-01    183.1\n",
       "1901-04-01    119.3\n",
       "1901-05-01    180.3\n",
       "Name: Sales, dtype: float64"
      ]
     },
     "execution_count": 3,
     "metadata": {},
     "output_type": "execute_result"
    }
   ],
   "source": [
    "series = pd.read_csv('shampoo-sales.csv', header=0, index_col=0,\n",
    "                 parse_dates=True, squeeze=True, date_parser=parser)\n",
    "series.head()"
   ]
  },
  {
   "cell_type": "code",
   "execution_count": 4,
   "id": "1676e542",
   "metadata": {},
   "outputs": [
    {
     "data": {
      "text/plain": [
       "Month\n",
       "1903-08-01    407.6\n",
       "1903-09-01    682.0\n",
       "1903-10-01    475.3\n",
       "1903-11-01    581.3\n",
       "1903-12-01    646.9\n",
       "Name: Sales, dtype: float64"
      ]
     },
     "execution_count": 4,
     "metadata": {},
     "output_type": "execute_result"
    }
   ],
   "source": [
    "series.tail()"
   ]
  },
  {
   "cell_type": "markdown",
   "id": "fec3d849",
   "metadata": {},
   "source": [
    "## Upsampling Data"
   ]
  },
  {
   "cell_type": "code",
   "execution_count": 5,
   "id": "5ee8fbfd",
   "metadata": {},
   "outputs": [
    {
     "data": {
      "text/plain": [
       "Month\n",
       "1901-01-01    266.0\n",
       "1901-01-02      NaN\n",
       "1901-01-03      NaN\n",
       "1901-01-04      NaN\n",
       "1901-01-05      NaN\n",
       "1901-01-06      NaN\n",
       "1901-01-07      NaN\n",
       "1901-01-08      NaN\n",
       "1901-01-09      NaN\n",
       "1901-01-10      NaN\n",
       "1901-01-11      NaN\n",
       "1901-01-12      NaN\n",
       "1901-01-13      NaN\n",
       "1901-01-14      NaN\n",
       "1901-01-15      NaN\n",
       "1901-01-16      NaN\n",
       "1901-01-17      NaN\n",
       "1901-01-18      NaN\n",
       "1901-01-19      NaN\n",
       "1901-01-20      NaN\n",
       "1901-01-21      NaN\n",
       "1901-01-22      NaN\n",
       "1901-01-23      NaN\n",
       "1901-01-24      NaN\n",
       "1901-01-25      NaN\n",
       "1901-01-26      NaN\n",
       "1901-01-27      NaN\n",
       "1901-01-28      NaN\n",
       "1901-01-29      NaN\n",
       "1901-01-30      NaN\n",
       "1901-01-31      NaN\n",
       "1901-02-01    145.9\n",
       "Freq: D, Name: Sales, dtype: float64"
      ]
     },
     "execution_count": 5,
     "metadata": {},
     "output_type": "execute_result"
    }
   ],
   "source": [
    "upsampled = series.resample('D').mean()\n",
    "upsampled.head(32)"
   ]
  },
  {
   "cell_type": "markdown",
   "id": "a7620b12",
   "metadata": {},
   "source": [
    "As the original data existed at a frequency of once a month, upsampling to once a day leaves a lot of null values. \n",
    "\n",
    "These null values can be interpolated using the `interpolate()` function. There are many ways these values can be interpolated. A good starting point is to use a linear interpolation."
   ]
  },
  {
   "cell_type": "code",
   "execution_count": 6,
   "id": "024ea71a",
   "metadata": {},
   "outputs": [
    {
     "data": {
      "text/plain": [
       "Month\n",
       "1901-01-01    266.000000\n",
       "1901-01-02    262.125806\n",
       "1901-01-03    258.251613\n",
       "1901-01-04    254.377419\n",
       "1901-01-05    250.503226\n",
       "Freq: D, Name: Sales, dtype: float64"
      ]
     },
     "execution_count": 6,
     "metadata": {},
     "output_type": "execute_result"
    }
   ],
   "source": [
    "import matplotlib.pyplot as plt\n",
    "\n",
    "interpolated = upsampled.interpolate(method='linear')\n",
    "interpolated.head()"
   ]
  },
  {
   "cell_type": "code",
   "execution_count": 7,
   "id": "7fa84fc8",
   "metadata": {},
   "outputs": [
    {
     "data": {
      "image/png": "[encoded data removed]",
      "text/plain": [
       "<Figure size 432x288 with 1 Axes>"
      ]
     },
     "metadata": {
      "needs_background": "light"
     },
     "output_type": "display_data"
    }
   ],
   "source": [
    "interpolated.plot()\n",
    "plt.show()"
   ]
  },
  {
   "cell_type": "markdown",
   "id": "1b296104",
   "metadata": {},
   "source": [
    "There would be no difference in a line plot of the original data and a line plot of this interpolated data because the method was linear. Other methods would result in a different plot.\n",
    "\n",
    "Another common method is to use a polynomial or a spline to connect the values. Using a spline interpolation requires you specify the order of the polynomial. "
   ]
  },
  {
   "cell_type": "code",
   "execution_count": 8,
   "id": "87caebe0",
   "metadata": {},
   "outputs": [
    {
     "data": {
      "image/png": "[encoded data removed]",
      "text/plain": [
       "<Figure size 432x288 with 1 Axes>"
      ]
     },
     "metadata": {
      "needs_background": "light"
     },
     "output_type": "display_data"
    }
   ],
   "source": [
    "interpolated = upsampled.interpolate(method='spline', order=2)\n",
    "interpolated.plot()\n",
    "plt.show()"
   ]
  },
  {
   "cell_type": "code",
   "execution_count": 9,
   "id": "973aa5b8",
   "metadata": {},
   "outputs": [
    {
     "data": {
      "text/plain": [
       "Month\n",
       "1901-01-01    266.000000\n",
       "1901-01-02    258.630160\n",
       "1901-01-03    251.560886\n",
       "1901-01-04    244.720748\n",
       "1901-01-05    238.109746\n",
       "Freq: D, Name: Sales, dtype: float64"
      ]
     },
     "execution_count": 9,
     "metadata": {},
     "output_type": "execute_result"
    }
   ],
   "source": [
    "interpolated.head()"
   ]
  },
  {
   "cell_type": "markdown",
   "id": "e112e249",
   "metadata": {},
   "source": [
    "## Downsampling\n",
    "\n",
    "We can again use the `resample()` function from pandas to group all observations by a new, lower frequency. With a lower frequency, we must also provide an aggregate method by which to consolidate many rows of data into fewer rows. "
   ]
  },
  {
   "cell_type": "code",
   "execution_count": 10,
   "id": "1cd9b7ed",
   "metadata": {},
   "outputs": [
    {
     "data": {
      "text/plain": [
       "<pandas.core.resample.DatetimeIndexResampler object at 0x7fd67a5d4640>"
      ]
     },
     "execution_count": 10,
     "metadata": {},
     "output_type": "execute_result"
    }
   ],
   "source": [
    "resample = series.resample('Q') # Resampled to quarterly frequency\n",
    "resample"
   ]
  },
  {
   "cell_type": "code",
   "execution_count": 11,
   "id": "450ef38c",
   "metadata": {},
   "outputs": [
    {
     "data": {
      "text/plain": [
       "Month\n",
       "1901-03-31    198.333333\n",
       "1901-06-30    156.033333\n",
       "1901-09-30    216.366667\n",
       "1901-12-31    215.100000\n",
       "1902-03-31    184.633333\n",
       "Freq: Q-DEC, Name: Sales, dtype: float64"
      ]
     },
     "execution_count": 11,
     "metadata": {},
     "output_type": "execute_result"
    }
   ],
   "source": [
    "quarterly_mean_sales = resample.mean()\n",
    "quarterly_mean_sales.head()"
   ]
  },
  {
   "cell_type": "code",
   "execution_count": 12,
   "id": "d5190221",
   "metadata": {},
   "outputs": [
    {
     "data": {
      "image/png": "[encoded data removed]",
      "text/plain": [
       "<Figure size 432x288 with 1 Axes>"
      ]
     },
     "metadata": {
      "needs_background": "light"
     },
     "output_type": "display_data"
    }
   ],
   "source": [
    "quarterly_mean_sales.plot()\n",
    "plt.show()"
   ]
  },
  {
   "cell_type": "markdown",
   "id": "de30c123",
   "metadata": {},
   "source": [
    "We can go further and resample at a yearly frequency:"
   ]
  },
  {
   "cell_type": "code",
   "execution_count": 13,
   "id": "dbc3b8fa",
   "metadata": {},
   "outputs": [
    {
     "name": "stdout",
     "output_type": "stream",
     "text": [
      "Month\n",
      "1901-12-31    2357.5\n",
      "1902-12-31    3153.5\n",
      "1903-12-31    5742.6\n",
      "Freq: A-DEC, Name: Sales, dtype: float64\n"
     ]
    },
    {
     "data": {
      "image/png": "[encoded data removed]",
      "text/plain": [
       "<Figure size 432x288 with 1 Axes>"
      ]
     },
     "metadata": {
      "needs_background": "light"
     },
     "output_type": "display_data"
    }
   ],
   "source": [
    "resample = series.resample('A')\n",
    "yearly_total_sales = resample.sum()\n",
    "print(yearly_total_sales.head())\n",
    "yearly_total_sales.plot()\n",
    "plt.show()"
   ]
  }
 ],
 "metadata": {
  "kernelspec": {
   "display_name": "Python 3",
   "language": "python",
   "name": "python3"
  },
  "language_info": {
   "codemirror_mode": {
    "name": "ipython",
    "version": 3
   },
   "file_extension": ".py",
   "mimetype": "text/x-python",
   "name": "python",
   "nbconvert_exporter": "python",
   "pygments_lexer": "ipython3",
   "version": "3.8.8"
  }
 },
 "nbformat": 4,
 "nbformat_minor": 5
}
