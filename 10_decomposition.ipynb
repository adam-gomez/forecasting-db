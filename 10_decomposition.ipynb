{
 "cells": [
  {
   "cell_type": "markdown",
   "id": "4b10dfb8",
   "metadata": {},
   "source": [
    "# Decompose Time Series Data\n",
    "\n",
    "Decomposition involes thinking of a series as a combination of level, trend, seasonality, and noise components.\n",
    "\n",
    "- **Systematic**: Components of the time series that have consistency or recurrence and can be described and modeled\n",
    "- **Non-Systematic**: Components of the time series that cannot be directly modeled\n",
    "\n",
    "Three systematic components:\n",
    "- **Level**: The average value in the series\n",
    "- **Trend**: The incresing or decreasing value in the series\n",
    "- **Seasonality**: The repeating short-term cycle in the series\n",
    "\n",
    "One non-systematic component:\n",
    "- **Noise**: The random variation in the series\n",
    "\n",
    "It is helpful to think of components as combining either additively or multiplicatively.\n",
    "\n",
    "### Additive Model\n",
    "\n",
    "$y(t) = Level + Trend + Seasonality + Noise$\n",
    "\n",
    "Changes over time are consistently made by the same amount.\n",
    "\n",
    "### Multiplicative Model\n",
    "$y(t) = Level x Trend x Seasonality x Noise$\n",
    "\n",
    "Changes are nonlinear, such as quadratic or exponential. Changes increase or decrease over time. A nonlinear trend is a curved line. A nonlinear seasonality has an increasing or decreasing frequency and/or amplitude over time. \n",
    "\n",
    "## Decomposition as a Tool\n",
    "\n",
    "Decomposition is primarily used for time series analysis. Each component is something you may need to address during data preparation, model selection, and model tuning. You may address it directly by modeling the trend and then subtracting it from the data, or indirectly by ensuring that enough data is included in the training data for an algorithm to model a trend. "
   ]
  },
  {
   "cell_type": "code",
   "execution_count": null,
   "id": "2965ba53",
   "metadata": {},
   "outputs": [],
   "source": []
  }
 ],
 "metadata": {
  "kernelspec": {
   "display_name": "Python 3",
   "language": "python",
   "name": "python3"
  },
  "language_info": {
   "codemirror_mode": {
    "name": "ipython",
    "version": 3
   },
   "file_extension": ".py",
   "mimetype": "text/x-python",
   "name": "python",
   "nbconvert_exporter": "python",
   "pygments_lexer": "ipython3",
   "version": "3.8.8"
  }
 },
 "nbformat": 4,
 "nbformat_minor": 5
}
